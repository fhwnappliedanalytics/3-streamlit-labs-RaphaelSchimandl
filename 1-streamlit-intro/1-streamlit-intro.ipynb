{
 "cells": [
  {
   "cell_type": "markdown",
   "metadata": {
    "jp-MarkdownHeadingCollapsed": true,
    "slideshow": {
     "slide_type": "slide"
    }
   },
   "source": [
    "### Streamlit\n",
    "\n",
    "`Streamlit` is an open-source Python library that makes it easy to create and share custom web apps for machine learning and data science. In just a few minutes you can build and deploy powerful data apps. You can either install streamlit via conda or pip\n",
    "\n",
    "`pip install streamlit`\n",
    "\n",
    "Test your installation by running following command in your terminal\n",
    "\n",
    "`streamlit hello`\n",
    "\n",
    "Streamlit's Hello app should appear in a new tab in your web browser! Take a look at the apps, each app includes a documentation.\n",
    "\n",
    "Refer to documentation to get more ideas about how to use streamlit\n",
    "\n",
    "https://docs.streamlit.io/library/get-started/create-an-app#create-your-first-app"
   ]
  },
  {
   "cell_type": "markdown",
   "metadata": {},
   "source": [
    "# Advanced Streamlit Features\n",
    "\n",
    "### Widgets\n",
    "\n",
    "Streamlit includes a variety of widgets that can enhance the interactivity of your app:\n",
    "\n",
    "- **Sliders and Selectboxes:** For numerical inputs or selecting options.\n",
    "- **Buttons and Checkboxes:** To trigger actions or toggle options.\n",
    "- **Text Input:** For receiving string inputs from users.\n",
    "\n",
    "### Data Display\n",
    "\n",
    "Streamlit provides efficient ways to display data:\n",
    "\n",
    "- **Tables:** Display data in a tabular format.\n",
    "- **Charts:** Integrated support for plotting libraries like Matplotlib, Plotly.\n",
    "\n",
    "### Layouts and Styling\n",
    "\n",
    "- **Columns and Expander:** Organize your app in a more structured layout.\n",
    "- **Custom CSS:** Inject custom CSS for more personalized styling.\n",
    "\n",
    "### Caching\n",
    "\n",
    "- **@st.cache:** Decorator to cache the results of computations, which speeds up the app especially when dealing with large datasets.\n",
    "\n",
    "### Deployment\n",
    "\n",
    "- **Share Your App:** Learn about deploying your Streamlit app using Streamlit sharing or other cloud platforms.\n",
    "\n",
    "## Example Code Snippet"
   ]
  },
  {
   "cell_type": "markdown",
   "metadata": {},
   "source": [
    "*The `%%file` command in a Jupyter notebook is a magic command that saves the content of the cell to a file.*\n",
    "\n",
    "*When you use `%%file intro-streamlit-one.py` at the beginning of a Jupyter notebook cell, it tells Jupyter to take all the code or text in that cell and save it as a file named intro-streamlit-one.py in the current directory.*"
   ]
  },
  {
   "cell_type": "code",
   "execution_count": null,
   "metadata": {},
   "outputs": [],
   "source": [
    "%%file intro-streamlit-one.py\n",
    "\n",
    "import streamlit as st\n",
    "import pandas as pd\n",
    "import numpy as np\n",
    "\n",
    "# Title of the app\n",
    "st.title('My Streamlit App')\n",
    "\n",
    "# Adding a slider\n",
    "slider_val = st.slider('Slide me', min_value=0, max_value=100)\n",
    "\n",
    "# Display the value\n",
    "st.write(f'You selected: {slider_val}')\n",
    "\n",
    "# Display a dataframe\n",
    "df = pd.DataFrame(np.random.randn(10, 5), columns=('col %d' % i for i in range(5)))\n",
    "st.dataframe(df)"
   ]
  },
  {
   "cell_type": "markdown",
   "metadata": {},
   "source": [
    "Run the streamlit app by execution\n",
    "\n",
    "`streamlit run intro-streamlit-one.py`"
   ]
  }
 ],
 "metadata": {
  "kernelspec": {
   "display_name": "Python 3",
   "language": "python",
   "name": "python3"
  },
  "language_info": {
   "codemirror_mode": {
    "name": "ipython",
    "version": 3
   },
   "file_extension": ".py",
   "mimetype": "text/x-python",
   "name": "python",
   "nbconvert_exporter": "python",
   "pygments_lexer": "ipython3",
   "version": "3.12.8"
  }
 },
 "nbformat": 4,
 "nbformat_minor": 4
}
