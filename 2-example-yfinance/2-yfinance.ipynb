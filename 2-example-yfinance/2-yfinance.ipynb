{
 "cells": [
  {
   "cell_type": "markdown",
   "metadata": {},
   "source": []
  },
  {
   "cell_type": "code",
   "execution_count": null,
   "metadata": {},
   "outputs": [],
   "source": [
    "import yfinance as yf"
   ]
  },
  {
   "cell_type": "markdown",
   "source": [
    "Get stock data can be done by using the `yf.Ticker` function and passing the ticker symbol of the stock we want to download.\n",
    "For instance, we can get the data for Microsoft (MSFT) by using the following command:"
   ],
   "metadata": {
    "collapsed": false
   }
  },
  {
   "cell_type": "code",
   "execution_count": null,
   "outputs": [],
   "source": [
    "stock_data = yf.Ticker('MSFT')"
   ],
   "metadata": {
    "collapsed": false
   }
  },
  {
   "cell_type": "markdown",
   "source": [
    "This contains fundamental data such as dividends, splits, etc. To get the historical data for Microsoft we can use the `history` function. This function returns a pandas DataFrame with the stock data from Yahoo Finance. The following command will get the historical prices for Microsoft for the period from 2010-01-01 until today."
   ],
   "metadata": {
    "collapsed": false
   }
  },
  {
   "cell_type": "markdown",
   "source": [
    "We can also specify the period by using the `start` and `end` parameters. The following command will get the historical prices for Microsoft for the period from 2010-01-01 until 2020-01-01."
   ],
   "metadata": {
    "collapsed": false
   }
  },
  {
   "cell_type": "code",
   "execution_count": null,
   "outputs": [],
   "source": [
    "stock_data.history(period='1d', start='2021-01-01', end='2021-12-31')"
   ],
   "metadata": {
    "collapsed": false
   }
  },
  {
   "cell_type": "markdown",
   "source": [
    "Plot the data\n",
    "We can use the plot function of the DataFrame to plot the historical prices for Microsoft."
   ],
   "metadata": {
    "collapsed": false
   }
  },
  {
   "cell_type": "code",
   "execution_count": null,
   "outputs": [],
   "source": [
    "import matplotlib # required for plotting\n",
    "\n",
    "stock_data.history(period='1d', start='2021-01-01', end='2021-12-31')['Close'].plot(title='Microsoft Stock Price')"
   ],
   "metadata": {
    "collapsed": false
   }
  },
  {
   "cell_type": "markdown",
   "source": [
    "We can also plot the volume traded over time."
   ],
   "metadata": {
    "collapsed": false
   }
  },
  {
   "cell_type": "code",
   "execution_count": null,
   "outputs": [],
   "source": [
    "stock_data.history(period='1d', start='2021-01-01', end='2021-12-31')['Volume'].plot(title='Microsoft Stock Volume')"
   ],
   "metadata": {
    "collapsed": false
   }
  },
  {
   "cell_type": "markdown",
   "source": [
    "# Example App streamlit with yfinance\n",
    "Now we are going to use streamlit to create a simple app that will display the stock price and volume of Microsoft. We will use the same code as above to get the data from Yahoo Finance. We will then use streamlit to display the data in a nice way."
   ],
   "metadata": {
    "collapsed": false
   }
  },
  {
   "cell_type": "markdown",
   "source": [
    "Streamlit has a lot of custom widgets that we can use to display the data. For instance, we can use the `st.title` function to display a title. We can use the `st.write` function to display text. We can use the `st.line_chart` function to display a line chart. We can use the `st.sidebar` function to add a sidebar to our app. We can use the `st.date_input` function to add a date input widget to our app. We can use the `st.error` function to display an error message."
   ],
   "metadata": {
    "collapsed": false
   }
  },
  {
   "cell_type": "code",
   "execution_count": null,
   "outputs": [],
   "source": [
    "%%file streamlit_msft.py\n",
    "\n",
    "import streamlit as st\n",
    "import yfinance as yf\n",
    "\n",
    "\n",
    "st.title('Microsoft Stock Price')\n",
    "\n",
    "# get the data on a specific stock\n",
    "tickerSymbol = 'MSFT'\n",
    "# get data on this ticker\n",
    "tickerData = yf.Ticker(tickerSymbol)\n",
    "# get the historical prices for this ticker\n",
    "tickerDf = tickerData.history(period='1d', start='2021-01-01', end='2021-12-31')\n",
    "\n",
    "st.write(\"\"\"\n",
    "## Closing Price\n",
    "\"\"\")\n",
    "st.line_chart(tickerDf.Close)\n",
    "st.write(\"\"\"\n",
    "## Volume\n",
    "\"\"\")\n",
    "st.line_chart(tickerDf.Volume)"
   ],
   "metadata": {
    "collapsed": false
   }
  },
  {
   "cell_type": "code",
   "execution_count": null,
   "outputs": [],
   "source": [
    "%%bash\n",
    "streamlit run streamlit_msft.py"
   ],
   "metadata": {
    "collapsed": false
   }
  },
  {
   "cell_type": "markdown",
   "source": [
    "## Interactive App\n",
    "Now lets make the app more interactive by adding a sidebar where we can configure the period for which we want to get the data. We will add a slider to select the start and end date.\n",
    "\n",
    "### User Input\n",
    "\n",
    "We can also add user input to our app.\n",
    "Streamlit supports a lot of different widgets that we can use to add user input to our app. Like, text input, date input, number input, selectbox, multiselect, slider, etc.\n",
    "\n",
    "For instance, we can add a text input widget to our app. To configure a date we can use the `st.date_input` function.  \n",
    "\n",
    "Different input widgets have different parameters that we can use to configure them. \n",
    "Those inputs do return the value that the user has selected. We can use that value to do something in our app. \n",
    "\n",
    "st.sidebar.date_input('Start date', value=pd.to_datetime('2021-01-01'))"
   ],
   "metadata": {
    "collapsed": false
   }
  },
  {
   "cell_type": "code",
   "execution_count": null,
   "outputs": [],
   "source": [
    "%%file streamlit_range_msft.py\n",
    "\n",
    "import streamlit as st\n",
    "import yfinance as yf\n",
    "import pandas as pd\n",
    "\n",
    "st.title('Microsoft Stock Price')\n",
    "\n",
    "# get the data on a specific stock\n",
    "tickerSymbol = 'MSFT'\n",
    "# get data on this ticker\n",
    "tickerData = yf.Ticker(tickerSymbol)\n",
    "\n",
    "# add a slider to the sidebar. We also ensure to give it a default value.\n",
    "# We will add a validation ensure that the start date is always before the end date.\n",
    "start_date = st.sidebar.date_input('Start date', value=pd.to_datetime('2021-01-01'))\n",
    "end_date = st.sidebar.date_input('End date', value=pd.to_datetime('2021-12-31'))\n",
    "if start_date > end_date:\n",
    "    st.sidebar.error('Error: End date must fall after start date.')\n",
    "\n",
    "\n",
    "# get the historical prices for this ticker\n",
    "tickerDf = tickerData.history(period='1d', start=start_date, end=end_date)\n",
    "\n",
    "st.write(\"\"\"\n",
    "## Closing Price\n",
    "\"\"\")\n",
    "st.line_chart(tickerDf.Close)\n",
    "st.write(\"\"\"\n",
    "## Volume\n",
    "\"\"\")\n",
    "st.line_chart(tickerDf.Volume)"
   ],
   "metadata": {
    "collapsed": false
   }
  },
  {
   "cell_type": "code",
   "execution_count": null,
   "outputs": [],
   "source": [
    "%%bash\n",
    "streamlit run streamlit_range_msft.py"
   ],
   "metadata": {
    "collapsed": false
   }
  },
  {
   "cell_type": "markdown",
   "source": [
    "We can also use a slider instead of a date input widget to select the start and end date. And let's allow the user to enter a ticker symbol instead of hardcoding it in the app. We can use the `st.text_input` function to add a text input widget to our app. We can use the `st.button` function to add a button to our app. We can use the `st.error` function to display an error message."
   ],
   "metadata": {
    "collapsed": false
   }
  },
  {
   "cell_type": "code",
   "execution_count": null,
   "outputs": [],
   "source": [
    "%%file streamlit_range_slider_msft.py\n",
    "\n",
    "import streamlit as st\n",
    "import yfinance as yf\n",
    "import pandas as pd\n",
    "\n",
    "st.title('Microsoft Stock Price')\n",
    "\n",
    "# get the data on a specific stock\n",
    "tickerSymbol = st.text_input('Enter ticker symbol', value='MSFT')\n",
    "\n",
    "# get data on this ticker\n",
    "tickerData = yf.Ticker(tickerSymbol)\n",
    "\n",
    "# validate the ticker symbol\n",
    "if tickerData.info is None:\n",
    "    st.error('Error: Ticker symbol not found.')\n",
    "    st.stop()\n",
    "\n",
    "\n",
    "# Define the date range for the slider\n",
    "min_date = pd.to_datetime('2021-01-01').date()\n",
    "max_date = pd.to_datetime('2023-12-31').date()\n",
    "\n",
    "\n",
    "# Add a slider to the sidebar. We also ensure to give it a default value.\n",
    "# Returns a tuple with the selected start and end dates\n",
    "start_date, end_date = st.sidebar.slider(\n",
    "    'Select a date range',\n",
    "    min_value=min_date, \n",
    "    max_value=max_date, \n",
    "    value=(min_date, max_date),\n",
    "    format='YYYY-MM-DD'\n",
    ")\n",
    "\n",
    "# Convert the selected dates back to pandas timestamps\n",
    "start_date = pd.to_datetime(start_date)\n",
    "end_date = pd.to_datetime(end_date)\n",
    "\n",
    "# Get the historical prices for this ticker\n",
    "tickerDf = tickerData.history(period='1d', start=start_date, end=end_date)\n",
    "\n",
    "\n",
    "st.write(\"\"\"\n",
    "## Closing Price\n",
    "\"\"\")\n",
    "st.line_chart(tickerDf.Close)\n",
    "\n",
    "st.write(\"\"\"\n",
    "## Volume\n",
    "\"\"\")\n",
    "st.line_chart(tickerDf.Volume)\n",
    "\n",
    "# show daily closing price as table\n",
    "\n",
    "st.write(\"\"\"\n",
    "## Stock information\n",
    "\"\"\")\n",
    "st.write(tickerDf)\n",
    "\n",
    "\n",
    "# Lets also show some information about the company\n",
    "st.write(\"\"\"\n",
    "## Company information\n",
    "\"\"\")\n",
    "st.write(tickerData.info)"
   ],
   "metadata": {
    "collapsed": false
   }
  },
  {
   "cell_type": "code",
   "execution_count": null,
   "outputs": [],
   "source": [
    "%%bash\n",
    "streamlit run streamlit_range_slider_msft.py"
   ],
   "metadata": {
    "collapsed": false
   }
  },
  {
   "cell_type": "code",
   "execution_count": null,
   "outputs": [],
   "source": [
    "%%file streamlit_stocks.py\n",
    "\n",
    "import yfinance as yf\n",
    "import streamlit as st\n",
    "import pandas as pd\n",
    "import datetime\n",
    "\n",
    "st.write('# Financials')\n",
    "st.write('This app is a demo version of Streamlit')\n",
    "\n",
    "st.sidebar.subheader('Stock selection in sidebar')\n",
    "st.sidebar.write('Select your stock')\n",
    "stocks = st.sidebar.multiselect('Stock option?', ['AAPL', 'AMZN', 'MSFT', 'GOOGL'])\n",
    "\n",
    "min_date = datetime.date(2020, 1, 1)\n",
    "max_date = datetime.date(2023, 1, 1)\n",
    "min_selected, max_selected = st.sidebar.date_input('Pick date', (min_date, max_date))\n",
    "\"This is the selected dates\", min_selected, max_selected\n",
    "\n",
    "# Checking if any stock is selected\n",
    "if stocks:\n",
    "    combined_closing = pd.DataFrame()\n",
    "    combined_volume = pd.DataFrame()\n",
    "\n",
    "    for stock in stocks:\n",
    "        # Get historical data for each stock\n",
    "        ticker_data = yf.Ticker(stock)\n",
    "        ticker_df = ticker_data.history(period='1d', start=min_selected, end=max_selected)\n",
    "\n",
    "        # Append closing prices and volumes to the combined dataframes\n",
    "        combined_closing[stock] = ticker_df['Close']\n",
    "        combined_volume[stock] = ticker_df['Volume']\n",
    "\n",
    "    # Plotting the combined closing prices\n",
    "    st.write('## Combined Closing Price')\n",
    "    st.line_chart(combined_closing)\n",
    "\n",
    "    # Plotting the combined volumes\n",
    "    st.write('## Combined Volume')\n",
    "    st.line_chart(combined_volume)\n",
    "\n",
    "else:\n",
    "    st.write('Please select at least one stock to display data.')\n"
   ],
   "metadata": {
    "collapsed": false
   }
  },
  {
   "cell_type": "code",
   "execution_count": null,
   "outputs": [],
   "source": [
    "%%bash\n",
    "streamlit run streamlit_stocks.py"
   ],
   "metadata": {
    "collapsed": false
   }
  }
 ],
 "metadata": {
  "language_info": {
   "name": "python"
  },
  "kernelspec": {
   "name": "python3",
   "language": "python",
   "display_name": "Python 3 (ipykernel)"
  }
 },
 "nbformat": 4,
 "nbformat_minor": 2
}
