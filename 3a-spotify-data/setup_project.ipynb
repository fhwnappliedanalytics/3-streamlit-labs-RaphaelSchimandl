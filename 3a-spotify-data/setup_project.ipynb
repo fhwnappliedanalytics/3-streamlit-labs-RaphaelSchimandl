{
 "cells": [
  {
   "cell_type": "markdown",
   "metadata": {
    "vscode": {
     "languageId": "plaintext"
    }
   },
   "source": [
    "# Data Download and Extraction\n",
    "\n",
    "This script downloads a ZIP file from Google Drive, stores it in a structured directory, and extracts its contents into a specific location.\n",
    "\n",
    "## Directory Structure\n",
    "\n",
    "```\n",
    "project_root/\n",
    "│── data/\n",
    "│   │── download/data.zip   # Contains the downloaded ZIP file\n",
    "│   │── csv_files/          # Contains extracted CSV files\n",
    "│── setup_project.ipynb     # Jupyter Notebook for downloading and extracting data\n",
    "```"
   ]
  },
  {
   "cell_type": "code",
   "execution_count": 6,
   "metadata": {},
   "outputs": [
    {
     "name": "stderr",
     "output_type": "stream",
     "text": [
      "Downloading...\n",
      "From (original): https://drive.google.com/uc?id=1H_T6Z74iMs0_VXMSD7wwcQ_ctB5kalNg\n",
      "From (redirected): https://drive.google.com/uc?id=1H_T6Z74iMs0_VXMSD7wwcQ_ctB5kalNg&confirm=t&uuid=a6ab51bd-1e2c-4033-9e01-fa1ed2e501b6\n",
      "To: /workspaces/3_streamlit/3a-spotify-data/data/download/data.zip\n",
      "100%|██████████| 287M/287M [00:02<00:00, 133MB/s]  \n"
     ]
    },
    {
     "name": "stdout",
     "output_type": "stream",
     "text": [
      "Download and extraction complete.\n"
     ]
    }
   ],
   "source": [
    "import os\n",
    "import gdown\n",
    "import zipfile\n",
    "\n",
    "# Define directories\n",
    "data_dir = \"data\"\n",
    "download_dir = os.path.join(data_dir, \"download\")\n",
    "csv_dir = os.path.join(data_dir, \"csv_files\")\n",
    "\n",
    "\n",
    "os.makedirs(download_dir, exist_ok=True)\n",
    "os.makedirs(csv_dir, exist_ok=True)\n",
    "\n",
    "zip_path = os.path.join(download_dir, \"data.zip\")\n",
    "\n",
    "# Download ZIP file from Google Drive\n",
    "url = f\"https://drive.google.com/uc?id=1H_T6Z74iMs0_VXMSD7wwcQ_ctB5kalNg\"\n",
    "gdown.download(url, zip_path, quiet=False)\n",
    "\n",
    "# Extract ZIP file into csv_files directory\n",
    "with zipfile.ZipFile(zip_path, 'r') as zip_ref:\n",
    "    zip_ref.extractall(csv_dir)\n",
    "\n",
    "print(\"Download and extraction complete.\")"
   ]
  },
  {
   "cell_type": "code",
   "execution_count": 7,
   "metadata": {},
   "outputs": [],
   "source": [
    "import pandas as pd\n",
    "\n",
    "df_albums = pd.read_csv('./data/csv_files/SpotGenTrack/Data Sources/spotify_albums.csv')\n",
    "df_tracks = pd.read_csv('./data/csv_files/SpotGenTrack/Data Sources/spotify_tracks.csv')\n",
    "df_artists = pd.read_csv('./data/csv_files/SpotGenTrack/Data Sources/spotify_artists.csv')"
   ]
  }
 ],
 "metadata": {
  "kernelspec": {
   "display_name": "Python 3",
   "language": "python",
   "name": "python3"
  },
  "language_info": {
   "codemirror_mode": {
    "name": "ipython",
    "version": 3
   },
   "file_extension": ".py",
   "mimetype": "text/x-python",
   "name": "python",
   "nbconvert_exporter": "python",
   "pygments_lexer": "ipython3",
   "version": "3.12.9"
  }
 },
 "nbformat": 4,
 "nbformat_minor": 2
}
